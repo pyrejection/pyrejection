{
 "cells": [
  {
   "cell_type": "code",
   "execution_count": null,
   "metadata": {},
   "outputs": [],
   "source": [
    "from IPython.core.display import display_svg\n",
    "import plotly.express as px\n",
    "import plotly.graph_objects as go\n",
    "import pandas as pd\n",
    "\n",
    "from pyrejection.evaluation import render_svg_fig, standard_fig_style"
   ]
  },
  {
   "cell_type": "code",
   "execution_count": null,
   "metadata": {},
   "outputs": [],
   "source": [
    "Eu = 'Unconditional Error Rate: E<sup>u</sup>'\n",
    "Ec = 'Conditional Error Rate: E<sup>c</sup>'\n",
    "C = 'Coverage Rate: C'\n",
    "R = 'Rejection Rate: R'"
   ]
  },
  {
   "cell_type": "code",
   "execution_count": null,
   "metadata": {},
   "outputs": [],
   "source": [
    "# The interpolation code assumes these points are all on the pareto front of the capacity curve.\n",
    "classifiers = pd.DataFrame([\n",
    "    {'label': 'f<sup>0</sup>', Eu: 0.7, C: 1},\n",
    "    {'label': 'B', Eu: 0.35, C: 0.7},\n",
    "    {'label': 'D (p=0.5)', Eu: 0.2, C: 0.45},\n",
    "    {'label': 'A', Eu: 0.05, C: 0.2},\n",
    "    {'label': 'f<sup>⊥</sup>', Eu: 0, C: 0},\n",
    "])\n",
    "\n",
    "def conditional_error(coverage, unconditional_error):\n",
    "    if coverage == 0:\n",
    "        return None\n",
    "    return unconditional_error / coverage\n",
    "\n",
    "classifiers[Ec] = classifiers.apply(lambda row: conditional_error(row[C], row[Eu]), axis=1)\n",
    "classifiers[R] = 1 - classifiers[C]"
   ]
  },
  {
   "cell_type": "code",
   "execution_count": null,
   "metadata": {},
   "outputs": [],
   "source": [
    "def get_interpolated_classifiers(clfs, n):\n",
    "    keys = [R, C, Eu, Ec]\n",
    "    interpolated_classifiers = []\n",
    "    for i in range(n+1):\n",
    "        rejection = i / n\n",
    "        prev_clfs = clfs[clfs[R] <= rejection]\n",
    "        prev_clf = clfs.iloc[prev_clfs[R].idxmax()]\n",
    "        next_clfs = clfs[clfs[R] >= rejection]\n",
    "        next_clf = clfs.iloc[next_clfs[R].idxmin()]\n",
    "        if prev_clf[R] == next_clf[R]:\n",
    "            interpolated_classifiers.append(prev_clf[keys].to_dict())\n",
    "            continue\n",
    "        p = (rejection - prev_clf[R]) / (next_clf[R] - prev_clf[R])\n",
    "        unconditional_error = (p * next_clf[Eu]) + ((1 - p) * prev_clf[Eu])\n",
    "        coverage = 1 - rejection\n",
    "        interpolated_classifiers.append({\n",
    "            R: rejection,\n",
    "            C: coverage,\n",
    "            Eu: unconditional_error,\n",
    "            Ec: conditional_error(coverage, unconditional_error),\n",
    "        })\n",
    "    return pd.DataFrame(interpolated_classifiers)\n",
    "\n",
    "def plot_curve(classifiers, x, y):\n",
    "    interpolated_classifiers = get_interpolated_classifiers(classifiers, 500)\n",
    "    fig = px.line(interpolated_classifiers, x=x, y=y)\n",
    "    if y == Eu:\n",
    "        fig.add_trace(go.Scatter(\n",
    "            x=classifiers[x],\n",
    "            y=pd.Series(1, index=classifiers.index),\n",
    "            fill='tonexty', # fill area between trace0 and trace1\n",
    "            fillcolor='rgba(00,00,00,0.1)',\n",
    "            mode='markers',\n",
    "            marker=dict(opacity=0),\n",
    "        ))\n",
    "        fig.add_trace(go.Scatter(\n",
    "            x=[0.3],\n",
    "            y=[0.55],\n",
    "            text=['Capacity'],\n",
    "            mode='markers+text',\n",
    "            marker=dict(opacity=0),\n",
    "            textposition='top center',\n",
    "            textfont=dict(size=24, color='#000000'),\n",
    "        ))\n",
    "    fig.add_trace(go.Scatter(\n",
    "        x=classifiers[x],\n",
    "        y=classifiers[y],\n",
    "        text=classifiers['label'],\n",
    "        mode='markers+text',\n",
    "    ))\n",
    "    fig.update_traces(\n",
    "        textposition='bottom right',\n",
    "        line=dict(color='#000000'),\n",
    "        showlegend=False,\n",
    "    )\n",
    "    standard_fig_style(fig)\n",
    "    fig.update_layout({\n",
    "        'width': 550,\n",
    "        'height': 450,\n",
    "        'xaxis': {\n",
    "            'range': [-0.01, 1.05],\n",
    "        },\n",
    "        'xaxis_title': x,\n",
    "        'yaxis': {\n",
    "            'range': [-0.1, 1.01],\n",
    "        },\n",
    "        'yaxis_title': y,\n",
    "        'margin': {'r': 0},\n",
    "        'legend_title_text': '',\n",
    "        'font': {'size': 22},\n",
    "    })\n",
    "    return fig"
   ]
  },
  {
   "cell_type": "code",
   "execution_count": null,
   "metadata": {},
   "outputs": [],
   "source": [
    "render_svg_fig(plot_curve(classifiers, x=C, y=Eu))"
   ]
  },
  {
   "cell_type": "code",
   "execution_count": null,
   "metadata": {},
   "outputs": [],
   "source": [
    "render_svg_fig(plot_curve(classifiers, x=C, y=Ec))"
   ]
  },
  {
   "cell_type": "code",
   "execution_count": null,
   "metadata": {},
   "outputs": [],
   "source": []
  }
 ],
 "metadata": {
  "kernelspec": {
   "display_name": "Python 3",
   "language": "python",
   "name": "python3"
  },
  "language_info": {
   "codemirror_mode": {
    "name": "ipython",
    "version": 3
   },
   "file_extension": ".py",
   "mimetype": "text/x-python",
   "name": "python",
   "nbconvert_exporter": "python",
   "pygments_lexer": "ipython3",
   "version": "3.7.6"
  }
 },
 "nbformat": 4,
 "nbformat_minor": 2
}
