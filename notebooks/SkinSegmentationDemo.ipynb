{
 "cells": [
  {
   "cell_type": "code",
   "execution_count": null,
   "metadata": {},
   "outputs": [],
   "source": [
    "%load_ext autoreload\n",
    "%autoreload 2"
   ]
  },
  {
   "cell_type": "code",
   "execution_count": null,
   "metadata": {},
   "outputs": [],
   "source": [
    "import numpy as np\n",
    "import pandas as pd\n",
    "import matplotlib.pyplot as plt\n",
    "import plotly.express as px\n",
    "import plotly.graph_objects as go\n",
    "from colorsys import rgb_to_hsv\n",
    "from IPython.display import display_svg\n",
    "\n",
    "from pyrejection.rejection import is_reject_or_null_mask\n",
    "from pyrejection.datasets import DATASETS, prepare_dataset\n",
    "from pyrejection.classifiers import CLASSIFIERS\n",
    "from pyrejection.experiments import run_experiment\n",
    "from pyrejection.evaluation import get_all_summaries, get_experiment_base_summary, render_svg_fig, plot_legend_svg"
   ]
  },
  {
   "cell_type": "markdown",
   "metadata": {},
   "source": [
    "## Experiment-level Analysis"
   ]
  },
  {
   "cell_type": "code",
   "execution_count": null,
   "metadata": {},
   "outputs": [],
   "source": [
    "exp_result = run_experiment(metric_name='accuracy',\n",
    "                            classifier_name='unscaled-logreg',\n",
    "                            dataset_name='skin-segmentation',\n",
    "                            random_state=0,\n",
    "                            cache_dir='results_cache')"
   ]
  },
  {
   "cell_type": "markdown",
   "metadata": {},
   "source": [
    "## Pixel Comparison"
   ]
  },
  {
   "cell_type": "code",
   "execution_count": null,
   "metadata": {},
   "outputs": [],
   "source": [
    "BACKGROUND_COLOUR = {'r': 255, 'g': 255, 'b': 255}\n",
    "TRUE_CLASS_COLOUR = {'r': 170, 'g': 170, 'b': 170}\n",
    "FALSE_CLASS_COLOUR = {'r': 0, 'g': 0, 'b': 0}\n",
    "CORRECT_COLOUR = {'r': 20, 'g': 102, 'b': 20}\n",
    "INCORRECT_COLOUR = {'r': 255, 'g': 51, 'b': 51}\n",
    "REJECT_COLOUR = {'r': 38, 'g': 38, 'b': 191}\n",
    "\n",
    "def colour_to_hex(c):\n",
    "    return f\"#{c['r']:x}{c['g']:x}{c['b']:x}\"\n",
    "\n",
    "def colour_block(rgb, index):\n",
    "    return pd.DataFrame(rgb, index)\n",
    "\n",
    "def get_df_pixels(X_df):\n",
    "    return X_df[['r', 'g', 'b']].to_numpy().astype(int)\n",
    "\n",
    "def get_class_pixels(y_series):\n",
    "    mask_df = colour_block(BACKGROUND_COLOUR, y_series.index)\n",
    "    mask_df = mask_df.mask((y_series == 'c1'), colour_block(TRUE_CLASS_COLOUR, y_series.index))\n",
    "    mask_df = mask_df.mask((y_series == 'c2'), colour_block(FALSE_CLASS_COLOUR, y_series.index))\n",
    "    mask_df = mask_df.mask(is_reject_or_null_mask(y_series), colour_block(REJECT_COLOUR, y_series.index))\n",
    "    return get_df_pixels(mask_df)\n",
    "\n",
    "def get_correctness_pixels(y_series, preds_series):\n",
    "    correctness_df = colour_block(BACKGROUND_COLOUR, y_series.index)\n",
    "    correctness_df = correctness_df.mask((y_series == preds_series),\n",
    "                                         colour_block(CORRECT_COLOUR, y_series.index))\n",
    "    correctness_df = correctness_df.mask((y_series != preds_series),\n",
    "                                         colour_block(INCORRECT_COLOUR, y_series.index))\n",
    "    correctness_df = correctness_df.mask(is_reject_or_null_mask(preds_series),\n",
    "                                         colour_block(REJECT_COLOUR, y_series.index))\n",
    "    return get_df_pixels(correctness_df)\n",
    "    \n",
    "rgb_indexes = [\n",
    "    exp_result['dataset_attributes']['feature_names'].index(f)\n",
    "    for f in ['r', 'g', 'b']\n",
    "]\n",
    "model_extras = get_experiment_base_summary(exp_result)['extras']\n",
    "coefs = [model_extras['model_coefs'][0][idx] for idx in rgb_indexes]\n",
    "intercept = model_extras['intercept'][0]\n",
    "\n",
    "def get_pixel_index(pixels):\n",
    "    hues = np.apply_along_axis(pixel_ordering, axis=1, arr=pixels)\n",
    "    return hues.argsort()\n",
    "\n",
    "def plot_image(pixels, ax=None):\n",
    "    N = pixels.shape[0]\n",
    "    H = int(np.ceil(np.sqrt(N)))\n",
    "    W = int(np.ceil(N / H))\n",
    "    remainder = (H * W) - N\n",
    "    filler_vals = np.tile([255, 255, 255], (remainder, 1))\n",
    "    pixels = np.concatenate([pixels, filler_vals], axis=0)\n",
    "    img = pixels.reshape([H, W, 3])\n",
    "    fig = px.imshow(img.astype(np.uint8))\n",
    "    fig.update_layout(margin=dict(l=0, r=0, b=0, t=0, pad=0), width=600, height=600)\n",
    "    fig.update_xaxes(showticklabels=False).update_yaxes(showticklabels=False)\n",
    "    render_svg_fig(fig)\n",
    "\n",
    "def pixel_ordering(rgb):\n",
    "    def logreg(x):\n",
    "        return np.sum(np.array(x) * coefs) - intercept\n",
    "    return logreg(rgb)"
   ]
  },
  {
   "cell_type": "code",
   "execution_count": null,
   "metadata": {},
   "outputs": [],
   "source": [
    "confidence_threshold = 0.1\n",
    "nl_iteration = 2"
   ]
  },
  {
   "cell_type": "code",
   "execution_count": null,
   "metadata": {},
   "outputs": [],
   "source": [
    "dataset_parts = prepare_dataset(\n",
    "    CLASSIFIERS[exp_result['config']['classifier']],\n",
    "    DATASETS[exp_result['config']['dataset']],\n",
    "    random_state=exp_result['config']['random_state'],\n",
    "    test_size=exp_result['config']['test_size'],\n",
    "    apply_preprocessing=False)\n",
    "test_X, test_y = dataset_parts['test_X'], dataset_parts['test_y']\n",
    "all_summaries = get_all_summaries(exp_result)"
   ]
  },
  {
   "cell_type": "code",
   "execution_count": null,
   "metadata": {},
   "outputs": [],
   "source": [
    "X_pixels = get_df_pixels(test_X)\n",
    "class_pixels = get_class_pixels(test_y)\n",
    "pixel_index = get_pixel_index(X_pixels)\n",
    "print('Pixel colours (ordered by logistic regression activation)')\n",
    "plot_image(X_pixels[pixel_index])"
   ]
  },
  {
   "cell_type": "code",
   "execution_count": null,
   "metadata": {},
   "outputs": [],
   "source": [
    "true_class_proportion = test_y.value_counts()['c1'] / test_y.shape[0]\n",
    "print(f'Class values ({true_class_proportion:.2%} skin)')\n",
    "plot_image(class_pixels[pixel_index])"
   ]
  },
  {
   "cell_type": "code",
   "execution_count": null,
   "metadata": {},
   "outputs": [],
   "source": [
    "base_preds = pd.Series(\n",
    "    all_summaries['confidence-thresholding']['0.0']['test_preds'],\n",
    "    index=test_y.index\n",
    ")\n",
    "base_pixels = get_class_pixels(base_preds)\n",
    "base_reject_rate = is_reject_or_null_mask(base_preds).sum() / base_preds.shape[0]\n",
    "print(f'Base Classifications ({base_reject_rate:.2%} rejected)')\n",
    "plot_image(base_pixels[pixel_index])"
   ]
  },
  {
   "cell_type": "code",
   "execution_count": null,
   "metadata": {},
   "outputs": [],
   "source": [
    "base_conditional_error = (\n",
    "    # Covered and error\n",
    "    (~is_reject_or_null_mask(base_preds) & (base_preds != test_y)).sum() /\n",
    "    # Covered\n",
    "    (~is_reject_or_null_mask(base_preds)).sum()\n",
    ")\n",
    "print(f'Base Correctness ({base_conditional_error:.2%} conditional error)')\n",
    "plot_image(get_correctness_pixels(test_y, base_preds)[pixel_index])"
   ]
  },
  {
   "cell_type": "code",
   "execution_count": null,
   "metadata": {},
   "outputs": [],
   "source": [
    "ct_preds = pd.Series(\n",
    "    all_summaries['confidence-thresholding'][str(confidence_threshold)]['test_preds'],\n",
    "    index=test_y.index\n",
    ")\n",
    "ct_pixels = get_class_pixels(ct_preds)\n",
    "ct_reject_rate = is_reject_or_null_mask(ct_preds).sum() / ct_preds.shape[0]\n",
    "print(f'CT Classifications ({ct_reject_rate:.2%} rejected)')\n",
    "plot_image(ct_pixels[pixel_index])"
   ]
  },
  {
   "cell_type": "code",
   "execution_count": null,
   "metadata": {},
   "outputs": [],
   "source": [
    "ct_conditional_error = (\n",
    "    # Covered and error\n",
    "    (~is_reject_or_null_mask(ct_preds) & (ct_preds != test_y)).sum() /\n",
    "    # Covered\n",
    "    (~is_reject_or_null_mask(ct_preds)).sum()\n",
    ")\n",
    "print(f'CT Correctness ({ct_conditional_error:.2%} conditional error)')\n",
    "plot_image(get_correctness_pixels(test_y, ct_preds)[pixel_index])"
   ]
  },
  {
   "cell_type": "code",
   "execution_count": null,
   "metadata": {},
   "outputs": [],
   "source": [
    "nl_preds = pd.Series(\n",
    "    all_summaries['null-labeling-nlrm-1-nlrc-0-iteration-{}'.format(nl_iteration)]['0.0']['test_preds'],\n",
    "    index=test_y.index\n",
    ")\n",
    "nl_pixels = get_class_pixels(nl_preds)\n",
    "nl_reject_rate = is_reject_or_null_mask(nl_preds).sum() / nl_preds.shape[0]\n",
    "print(f'NL Classifications ({nl_reject_rate:.2%} rejected)')\n",
    "plot_image(nl_pixels[pixel_index])"
   ]
  },
  {
   "cell_type": "code",
   "execution_count": null,
   "metadata": {},
   "outputs": [],
   "source": [
    "nl_conditional_error = (\n",
    "    # Covered and error\n",
    "    (~is_reject_or_null_mask(nl_preds) & (nl_preds != test_y)).sum() /\n",
    "    # Covered\n",
    "    (~is_reject_or_null_mask(nl_preds)).sum()\n",
    ")\n",
    "print(f'NL Correctness ({nl_conditional_error:.2%} conditional error)')\n",
    "plot_image(get_correctness_pixels(test_y, nl_preds)[pixel_index])"
   ]
  },
  {
   "cell_type": "code",
   "execution_count": null,
   "metadata": {},
   "outputs": [],
   "source": [
    "display_svg(plot_legend_svg({\n",
    "    'Skin': colour_to_hex(TRUE_CLASS_COLOUR),\n",
    "    'Not skin': colour_to_hex(FALSE_CLASS_COLOUR),\n",
    "    'Rejected': colour_to_hex(REJECT_COLOUR),\n",
    "    'Correct': colour_to_hex(CORRECT_COLOUR),\n",
    "    'Incorrect': colour_to_hex(INCORRECT_COLOUR),\n",
    "}), raw=True)"
   ]
  },
  {
   "cell_type": "code",
   "execution_count": null,
   "metadata": {},
   "outputs": [],
   "source": []
  }
 ],
 "metadata": {
  "kernelspec": {
   "display_name": "Python 3",
   "language": "python",
   "name": "python3"
  },
  "language_info": {
   "codemirror_mode": {
    "name": "ipython",
    "version": 3
   },
   "file_extension": ".py",
   "mimetype": "text/x-python",
   "name": "python",
   "nbconvert_exporter": "python",
   "pygments_lexer": "ipython3",
   "version": "3.7.6"
  }
 },
 "nbformat": 4,
 "nbformat_minor": 2
}
