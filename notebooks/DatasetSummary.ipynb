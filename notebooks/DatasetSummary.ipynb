{
 "cells": [
  {
   "cell_type": "code",
   "execution_count": null,
   "metadata": {},
   "outputs": [],
   "source": [
    "%load_ext autoreload\n",
    "%autoreload 2"
   ]
  },
  {
   "cell_type": "code",
   "execution_count": null,
   "metadata": {},
   "outputs": [],
   "source": [
    "import pandas as pd\n",
    "\n",
    "from pyrejection.datasets import DATASETS"
   ]
  },
  {
   "cell_type": "code",
   "execution_count": null,
   "metadata": {},
   "outputs": [],
   "source": [
    "dataset_stats = []\n",
    "for dataset_name, dataset_fn in DATASETS.items():\n",
    "    print(f'Analysing {dataset_name}')\n",
    "    dataset = dataset_fn()\n",
    "    dataset_stats.append({\n",
    "        'Dataset': dataset_name,\n",
    "        'Records': dataset.df.shape[0],\n",
    "        'Classes': len(dataset.df['class'].unique()),\n",
    "        'Classes counts': dataset.df['class'].value_counts().to_numpy(),\n",
    "        'Numeric features': len(dataset.numeric_columns),\n",
    "        'Categorical features': len(dataset.categorical_columns),\n",
    "    })\n",
    "    del dataset"
   ]
  },
  {
   "cell_type": "code",
   "execution_count": null,
   "metadata": {},
   "outputs": [],
   "source": [
    "with pd.option_context('display.max_colwidth', -1):\n",
    "    display(pd.DataFrame(dataset_stats))"
   ]
  },
  {
   "cell_type": "code",
   "execution_count": null,
   "metadata": {},
   "outputs": [],
   "source": []
  }
 ],
 "metadata": {
  "kernelspec": {
   "display_name": "Python 3",
   "language": "python",
   "name": "python3"
  },
  "language_info": {
   "codemirror_mode": {
    "name": "ipython",
    "version": 3
   },
   "file_extension": ".py",
   "mimetype": "text/x-python",
   "name": "python",
   "nbconvert_exporter": "python",
   "pygments_lexer": "ipython3",
   "version": "3.7.6"
  }
 },
 "nbformat": 4,
 "nbformat_minor": 2
}
